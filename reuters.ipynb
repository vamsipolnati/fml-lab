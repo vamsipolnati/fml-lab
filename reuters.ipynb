{
  "nbformat": 4,
  "nbformat_minor": 0,
  "metadata": {
    "colab": {
      "provenance": [],
      "authorship_tag": "ABX9TyPCYyIxPKUi/M9oxJZ+J1v7",
      "include_colab_link": true
    },
    "kernelspec": {
      "name": "python3",
      "display_name": "Python 3"
    },
    "language_info": {
      "name": "python"
    }
  },
  "cells": [
    {
      "cell_type": "markdown",
      "metadata": {
        "id": "view-in-github",
        "colab_type": "text"
      },
      "source": [
        "<a href=\"https://colab.research.google.com/github/saiganesh9000/fml-assignment/blob/main/reuters.ipynb\" target=\"_parent\"><img src=\"https://colab.research.google.com/assets/colab-badge.svg\" alt=\"Open In Colab\"/></a>"
      ]
    },
    {
      "cell_type": "code",
      "execution_count": 4,
      "metadata": {
        "colab": {
          "base_uri": "https://localhost:8080/"
        },
        "id": "zyLTEj0EH0Pe",
        "outputId": "b0bad29b-9f62-41a4-8eb2-a8c104b253c4"
      },
      "outputs": [
        {
          "output_type": "stream",
          "name": "stderr",
          "text": [
            "[nltk_data] Downloading package reuters to /root/nltk_data...\n",
            "[nltk_data]   Package reuters is already up-to-date!\n",
            "[nltk_data] Downloading package punkt to /root/nltk_data...\n",
            "[nltk_data]   Unzipping tokenizers/punkt.zip.\n"
          ]
        },
        {
          "output_type": "execute_result",
          "data": {
            "text/plain": [
              "True"
            ]
          },
          "metadata": {},
          "execution_count": 4
        }
      ],
      "source": [
        "import nltk\n",
        "nltk.download('reuters')\n",
        "nltk.download('punkt')"
      ]
    },
    {
      "cell_type": "code",
      "source": [
        "from nltk.corpus import reuters\n",
        "from nltk import bigrams, trigrams\n",
        "from collections import Counter, defaultdict\n",
        "\n",
        "# Create a placeholder for model\n",
        "model = defaultdict(lambda: defaultdict(lambda: 0))\n",
        "\n",
        "# Count frequency of co-occurance\n",
        "for sentence in reuters.sents():\n",
        "    for w1, w2, w3 in trigrams(sentence, pad_right=True, pad_left=True):\n",
        "        model[(w1, w2)][w3] += 1\n",
        "\n"
      ],
      "metadata": {
        "id": "keEXyUyvH7EK"
      },
      "execution_count": 6,
      "outputs": []
    },
    {
      "cell_type": "code",
      "source": [
        "for w1_w2 in model:\n",
        "  total_count=float(sum(model[w1_w2].values()))\n",
        "  for w3 in model[w1_w2]:\n",
        "    model[w1_w2][w3]/=total_count"
      ],
      "metadata": {
        "id": "zY6iDFIqXNRx"
      },
      "execution_count": 8,
      "outputs": []
    },
    {
      "cell_type": "code",
      "source": [
        "dict(model[\"today\",\"the\"])"
      ],
      "metadata": {
        "colab": {
          "base_uri": "https://localhost:8080/"
        },
        "id": "ICN8pc5KX38-",
        "outputId": "00f3a71b-a21b-4ef8-84fc-d850617ec13b"
      },
      "execution_count": 9,
      "outputs": [
        {
          "output_type": "execute_result",
          "data": {
            "text/plain": [
              "{'public': 0.05555555555555554,\n",
              " 'European': 0.05555555555555554,\n",
              " 'Bank': 0.05555555555555554,\n",
              " 'price': 0.11111111111111108,\n",
              " 'emirate': 0.05555555555555554,\n",
              " 'overseas': 0.05555555555555554,\n",
              " 'newspaper': 0.05555555555555554,\n",
              " 'company': 0.16666666666666663,\n",
              " 'Turkish': 0.05555555555555554,\n",
              " 'increase': 0.05555555555555554,\n",
              " 'options': 0.05555555555555554,\n",
              " 'Higher': 0.05555555555555554,\n",
              " 'pound': 0.05555555555555554,\n",
              " 'Italian': 0.05555555555555554,\n",
              " 'time': 0.05555555555555554}"
            ]
          },
          "metadata": {},
          "execution_count": 9
        }
      ]
    },
    {
      "cell_type": "code",
      "source": [
        "dict(model[\"the\",\"price\"])"
      ],
      "metadata": {
        "colab": {
          "base_uri": "https://localhost:8080/"
        },
        "id": "4xymytQEX-69",
        "outputId": "b7967ae6-faab-4c2e-e147-e64ee27a93c7"
      },
      "execution_count": 10,
      "outputs": [
        {
          "output_type": "execute_result",
          "data": {
            "text/plain": [
              "{'yesterday': 0.00465116279069768,\n",
              " 'of': 0.3209302325581399,\n",
              " 'it': 0.05581395348837216,\n",
              " 'effect': 0.00465116279069768,\n",
              " 'cut': 0.00930232558139536,\n",
              " 'for': 0.05116279069767448,\n",
              " 'paid': 0.01395348837209304,\n",
              " 'to': 0.05581395348837216,\n",
              " 'increases': 0.01395348837209304,\n",
              " 'used': 0.00465116279069768,\n",
              " 'climate': 0.00465116279069768,\n",
              " '.': 0.0232558139534884,\n",
              " 'cuts': 0.00930232558139536,\n",
              " 'reductions': 0.00465116279069768,\n",
              " 'limit': 0.00465116279069768,\n",
              " 'now': 0.00465116279069768,\n",
              " 'moved': 0.00465116279069768,\n",
              " 'per': 0.01395348837209304,\n",
              " 'adjustments': 0.00465116279069768,\n",
              " '(': 0.00930232558139536,\n",
              " 'slumped': 0.00465116279069768,\n",
              " 'is': 0.01860465116279072,\n",
              " 'move': 0.00465116279069768,\n",
              " 'evolution': 0.00465116279069768,\n",
              " 'differentials': 0.00930232558139536,\n",
              " 'went': 0.00465116279069768,\n",
              " 'the': 0.01395348837209304,\n",
              " 'factor': 0.00465116279069768,\n",
              " 'Royal': 0.00465116279069768,\n",
              " ',': 0.01860465116279072,\n",
              " 'again': 0.00465116279069768,\n",
              " 'changes': 0.00465116279069768,\n",
              " 'holds': 0.00465116279069768,\n",
              " 'has': 0.00930232558139536,\n",
              " 'fall': 0.00465116279069768,\n",
              " '-': 0.00465116279069768,\n",
              " 'from': 0.00465116279069768,\n",
              " 'base': 0.00465116279069768,\n",
              " 'on': 0.00465116279069768,\n",
              " 'review': 0.00465116279069768,\n",
              " 'while': 0.00465116279069768,\n",
              " 'collapse': 0.00465116279069768,\n",
              " 'being': 0.00465116279069768,\n",
              " 'at': 0.0232558139534884,\n",
              " 'outlook': 0.00465116279069768,\n",
              " 'rises': 0.00465116279069768,\n",
              " 'drop': 0.00465116279069768,\n",
              " 'guaranteed': 0.00465116279069768,\n",
              " ',\"': 0.00465116279069768,\n",
              " 'stayed': 0.00930232558139536,\n",
              " 'structure': 0.00465116279069768,\n",
              " 'and': 0.00465116279069768,\n",
              " 'could': 0.00465116279069768,\n",
              " 'related': 0.00465116279069768,\n",
              " 'hike': 0.00465116279069768,\n",
              " 'we': 0.00465116279069768,\n",
              " 'adjustment': 0.0232558139534884,\n",
              " 'policy': 0.00465116279069768,\n",
              " 'was': 0.00930232558139536,\n",
              " 'revision': 0.00465116279069768,\n",
              " 'freeze': 0.00930232558139536,\n",
              " 'led': 0.00465116279069768,\n",
              " 'action': 0.00465116279069768,\n",
              " 'zone': 0.00465116279069768,\n",
              " 'slump': 0.00465116279069768,\n",
              " 'had': 0.00465116279069768,\n",
              " 'difference': 0.00465116279069768,\n",
              " 'in': 0.00465116279069768,\n",
              " 'raise': 0.00465116279069768,\n",
              " 'increase': 0.00930232558139536,\n",
              " 'will': 0.01395348837209304,\n",
              " 'support': 0.00465116279069768,\n",
              " 'gap': 0.00465116279069768,\n",
              " 'would': 0.00930232558139536,\n",
              " 'projected': 0.00465116279069768,\n",
              " 'approached': 0.00465116279069768,\n",
              " 'instability': 0.00465116279069768}"
            ]
          },
          "metadata": {},
          "execution_count": 10
        }
      ]
    },
    {
      "cell_type": "code",
      "source": [
        "dict(model[\"the\",\"day\"])"
      ],
      "metadata": {
        "colab": {
          "base_uri": "https://localhost:8080/"
        },
        "id": "X5Qf7tWsYHN0",
        "outputId": "4d7e9c30-0545-49b0-a584-0b0a4eeac341"
      },
      "execution_count": 11,
      "outputs": [
        {
          "output_type": "execute_result",
          "data": {
            "text/plain": [
              "{'-': 0.041666666666666644,\n",
              " '.': 0.18749999999999992,\n",
              " 'the': 0.041666666666666644,\n",
              " 'to': 0.06249999999999997,\n",
              " 'after': 0.12499999999999994,\n",
              " ',': 0.06249999999999997,\n",
              " 'for': 0.020833333333333322,\n",
              " \"'\": 0.020833333333333322,\n",
              " 'against': 0.020833333333333322,\n",
              " 'Sun': 0.020833333333333322,\n",
              " 'in': 0.041666666666666644,\n",
              " 'trading': 0.020833333333333322,\n",
              " 'learn': 0.020833333333333322,\n",
              " 'led': 0.020833333333333322,\n",
              " 'yesterday': 0.020833333333333322,\n",
              " 'before': 0.041666666666666644,\n",
              " 'at': 0.020833333333333322,\n",
              " 'of': 0.020833333333333322,\n",
              " '.\"': 0.020833333333333322,\n",
              " 'a': 0.020833333333333322,\n",
              " 'and': 0.020833333333333322,\n",
              " 'we': 0.020833333333333322,\n",
              " 'on': 0.020833333333333322,\n",
              " 'which': 0.041666666666666644,\n",
              " 'immediately': 0.020833333333333322,\n",
              " 'it': 0.020833333333333322}"
            ]
          },
          "metadata": {},
          "execution_count": 11
        }
      ]
    },
    {
      "cell_type": "code",
      "source": [
        "dict(model[\"the\",\"dog\"])"
      ],
      "metadata": {
        "colab": {
          "base_uri": "https://localhost:8080/"
        },
        "id": "JqUhmTYqYOjs",
        "outputId": "4c370da2-c14e-4a97-d026-d7d687598e2d"
      },
      "execution_count": 12,
      "outputs": [
        {
          "output_type": "execute_result",
          "data": {
            "text/plain": [
              "{}"
            ]
          },
          "metadata": {},
          "execution_count": 12
        }
      ]
    },
    {
      "cell_type": "code",
      "source": [
        "dict(model[\"the\",\"man\"])"
      ],
      "metadata": {
        "colab": {
          "base_uri": "https://localhost:8080/"
        },
        "id": "OTfTGcQtYUU8",
        "outputId": "4fc940f8-02cb-4160-d223-8f2de7667736"
      },
      "execution_count": 13,
      "outputs": [
        {
          "output_type": "execute_result",
          "data": {
            "text/plain": [
              "{'who': 1.0}"
            ]
          },
          "metadata": {},
          "execution_count": 13
        }
      ]
    }
  ]
}